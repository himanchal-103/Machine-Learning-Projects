{
 "cells": [
  {
   "cell_type": "markdown",
   "metadata": {},
   "source": [
    "**IMPORTING NECESSARY MODULES**"
   ]
  },
  {
   "cell_type": "code",
   "execution_count": 1,
   "metadata": {},
   "outputs": [],
   "source": [
    "import os\n",
    "import pandas as pd\n",
    "\n",
    "import requests\n",
    "from bs4 import BeautifulSoup"
   ]
  },
  {
   "cell_type": "markdown",
   "metadata": {},
   "source": [
    "**INPUT DATA**"
   ]
  },
  {
   "cell_type": "code",
   "execution_count": 2,
   "metadata": {},
   "outputs": [
    {
     "name": "stdout",
     "output_type": "stream",
     "text": [
      "shape :  (100, 2)\n",
      "            URL_ID                                                URL\n",
      "0  blackassign0001  https://insights.blackcoffer.com/rising-it-cit...\n",
      "1  blackassign0002  https://insights.blackcoffer.com/rising-it-cit...\n",
      "2  blackassign0003  https://insights.blackcoffer.com/internet-dema...\n",
      "3  blackassign0004  https://insights.blackcoffer.com/rise-of-cyber...\n",
      "4  blackassign0005  https://insights.blackcoffer.com/ott-platform-...\n"
     ]
    }
   ],
   "source": [
    "# dataframe of imput.xlsx file\n",
    "input = pd.read_excel('Input_data/Input.xlsx')\n",
    "print('shape : ', input.shape)\n",
    "print(input.head())"
   ]
  },
  {
   "cell_type": "code",
   "execution_count": 3,
   "metadata": {},
   "outputs": [
    {
     "name": "stdout",
     "output_type": "stream",
     "text": [
      "<class 'pandas.core.frame.DataFrame'>\n",
      "RangeIndex: 100 entries, 0 to 99\n",
      "Data columns (total 2 columns):\n",
      " #   Column  Non-Null Count  Dtype \n",
      "---  ------  --------------  ----- \n",
      " 0   URL_ID  100 non-null    object\n",
      " 1   URL     100 non-null    object\n",
      "dtypes: object(2)\n",
      "memory usage: 1.7+ KB\n"
     ]
    }
   ],
   "source": [
    "input.info()"
   ]
  },
  {
   "cell_type": "markdown",
   "metadata": {},
   "source": [
    "**DATA EXTRACTION FROM GIVEN URLS**"
   ]
  },
  {
   "cell_type": "code",
   "execution_count": 4,
   "metadata": {},
   "outputs": [],
   "source": [
    "# function to extract data from url and saving in text file\n",
    "def extract_data(url_id, url):\n",
    "    filename = str(url_id) + '.txt'\n",
    "    path = os.path.join('Text_File', filename)\n",
    "\n",
    "    try: \n",
    "        # Sending a GET request to the URL\n",
    "        response = requests.get(url)\n",
    "\n",
    "        # Check if response status code is 404\n",
    "        if response.status_code == 404:\n",
    "            raise requests.exceptions.HTTPError(\"404 Not Found\")\n",
    "\n",
    "        # Parsing the HTML content\n",
    "        soup = BeautifulSoup(response.text, 'html.parser')\n",
    "\n",
    "        # extracting heading content\n",
    "        heading = soup.find('h1').text.strip()\n",
    "\n",
    "        # extracting paragraph content and combining into single paragraph\n",
    "        post_content_div = soup.find(\"div\", class_=\"td-post-content\")\n",
    "        if post_content_div:\n",
    "            paragraphs = post_content_div.find_all(\"p\")\n",
    "\n",
    "            # Combining paragraph tag content\n",
    "            combined_paragraphs = ' '.join(paragraph.text.strip() for paragraph in paragraphs)\n",
    "\n",
    "            with open(path, 'a') as file:\n",
    "                file.write(heading + '\\n')\n",
    "                file.write(combined_paragraphs)\n",
    "        else:\n",
    "            print('CONTENT NOT FOUND....')\n",
    "        print(filename, ' created...')\n",
    "    \n",
    "    except requests.exceptions.RequestException as e:\n",
    "        print(\"Error occurred:\", e)"
   ]
  },
  {
   "cell_type": "code",
   "execution_count": 5,
   "metadata": {},
   "outputs": [
    {
     "name": "stdout",
     "output_type": "stream",
     "text": [
      "blackassign0001.txt  created...\n",
      "blackassign0002.txt  created...\n",
      "blackassign0003.txt  created...\n",
      "blackassign0004.txt  created...\n",
      "blackassign0005.txt  created...\n",
      "blackassign0006.txt  created...\n",
      "blackassign0007.txt  created...\n",
      "blackassign0008.txt  created...\n",
      "blackassign0009.txt  created...\n",
      "blackassign0010.txt  created...\n",
      "blackassign0011.txt  created...\n",
      "blackassign0012.txt  created...\n",
      "blackassign0013.txt  created...\n",
      "blackassign0014.txt  created...\n",
      "blackassign0015.txt  created...\n",
      "blackassign0016.txt  created...\n",
      "blackassign0017.txt  created...\n",
      "blackassign0018.txt  created...\n",
      "blackassign0019.txt  created...\n",
      "blackassign0020.txt  created...\n",
      "blackassign0021.txt  created...\n",
      "blackassign0022.txt  created...\n",
      "blackassign0023.txt  created...\n",
      "blackassign0024.txt  created...\n",
      "blackassign0025.txt  created...\n",
      "blackassign0026.txt  created...\n",
      "blackassign0027.txt  created...\n",
      "blackassign0028.txt  created...\n",
      "blackassign0029.txt  created...\n",
      "blackassign0030.txt  created...\n",
      "blackassign0031.txt  created...\n",
      "blackassign0032.txt  created...\n",
      "blackassign0033.txt  created...\n",
      "blackassign0034.txt  created...\n",
      "blackassign0035.txt  created...\n",
      "Error occurred: 404 Not Found\n",
      "blackassign0037.txt  created...\n",
      "blackassign0038.txt  created...\n",
      "blackassign0039.txt  created...\n",
      "blackassign0040.txt  created...\n",
      "blackassign0041.txt  created...\n",
      "blackassign0042.txt  created...\n",
      "blackassign0043.txt  created...\n",
      "blackassign0044.txt  created...\n",
      "blackassign0045.txt  created...\n",
      "blackassign0046.txt  created...\n",
      "blackassign0047.txt  created...\n",
      "blackassign0048.txt  created...\n",
      "Error occurred: 404 Not Found\n",
      "blackassign0050.txt  created...\n",
      "blackassign0051.txt  created...\n",
      "blackassign0052.txt  created...\n",
      "blackassign0053.txt  created...\n",
      "blackassign0054.txt  created...\n",
      "blackassign0055.txt  created...\n",
      "blackassign0056.txt  created...\n",
      "blackassign0057.txt  created...\n",
      "blackassign0058.txt  created...\n",
      "blackassign0059.txt  created...\n",
      "blackassign0060.txt  created...\n",
      "blackassign0061.txt  created...\n",
      "blackassign0062.txt  created...\n",
      "blackassign0063.txt  created...\n",
      "blackassign0064.txt  created...\n",
      "blackassign0065.txt  created...\n",
      "blackassign0066.txt  created...\n",
      "blackassign0067.txt  created...\n",
      "blackassign0068.txt  created...\n",
      "blackassign0069.txt  created...\n",
      "blackassign0070.txt  created...\n",
      "blackassign0071.txt  created...\n",
      "blackassign0072.txt  created...\n",
      "blackassign0073.txt  created...\n",
      "blackassign0074.txt  created...\n",
      "blackassign0075.txt  created...\n",
      "blackassign0076.txt  created...\n",
      "blackassign0077.txt  created...\n",
      "blackassign0078.txt  created...\n",
      "blackassign0079.txt  created...\n",
      "blackassign0080.txt  created...\n",
      "blackassign0081.txt  created...\n",
      "blackassign0082.txt  created...\n",
      "blackassign0083.txt  created...\n",
      "blackassign0084.txt  created...\n",
      "blackassign0085.txt  created...\n",
      "blackassign0086.txt  created...\n",
      "blackassign0087.txt  created...\n",
      "blackassign0088.txt  created...\n",
      "blackassign0089.txt  created...\n",
      "blackassign0090.txt  created...\n",
      "blackassign0091.txt  created...\n",
      "blackassign0092.txt  created...\n",
      "blackassign0093.txt  created...\n",
      "blackassign0094.txt  created...\n",
      "blackassign0095.txt  created...\n",
      "blackassign0096.txt  created...\n",
      "blackassign0097.txt  created...\n",
      "blackassign0098.txt  created...\n",
      "blackassign0099.txt  created...\n",
      "blackassign0100.txt  created...\n"
     ]
    }
   ],
   "source": [
    "# extracting and storing data for all urls\n",
    "for i in range(len(input)):\n",
    "    extract_data(input.iloc[i]['URL_ID'], input.iloc[i]['URL'])"
   ]
  },
  {
   "cell_type": "code",
   "execution_count": 6,
   "metadata": {},
   "outputs": [],
   "source": [
    "# error occured in file 36 and file 49"
   ]
  }
 ],
 "metadata": {
  "kernelspec": {
   "display_name": "Python 3",
   "language": "python",
   "name": "python3"
  },
  "language_info": {
   "codemirror_mode": {
    "name": "ipython",
    "version": 3
   },
   "file_extension": ".py",
   "mimetype": "text/x-python",
   "name": "python",
   "nbconvert_exporter": "python",
   "pygments_lexer": "ipython3",
   "version": "3.11.9"
  }
 },
 "nbformat": 4,
 "nbformat_minor": 2
}
